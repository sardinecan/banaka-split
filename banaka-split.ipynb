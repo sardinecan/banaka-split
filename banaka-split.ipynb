{
 "cells": [
  {
   "cell_type": "markdown",
   "metadata": {},
   "source": [
    "# API Nakala"
   ]
  },
  {
   "cell_type": "markdown",
   "metadata": {},
   "source": [
    "## Packages"
   ]
  },
  {
   "cell_type": "code",
   "execution_count": 20,
   "metadata": {},
   "outputs": [],
   "source": [
    "using CSV\n",
    "using DataFrames\n",
    "using ImageSegmentation\n",
    "using HTTP\n",
    "using JSON\n",
    "using Dates\n",
    "using FileIO"
   ]
  },
  {
   "cell_type": "markdown",
   "metadata": {},
   "source": [
    "## Identifiants"
   ]
  },
  {
   "cell_type": "code",
   "execution_count": 13,
   "metadata": {},
   "outputs": [
    {
     "data": {
      "text/plain": [
       "\"295d7fc9-8505-a85c-aa7f-4a490b95e758\""
      ]
     },
     "metadata": {},
     "output_type": "display_data"
    }
   ],
   "source": [
    "path = @__DIR__\n",
    "credentials = CSV.read(joinpath(path, \"credentials.csv\"), DataFrame, header=1) #liste des utilisateurs\n",
    "user = \"jmorvan\" #choix de l'utilisateur (api test = tnakala)\n",
    "usrCredentials = filter(:user => n -> n == user, credentials) #récupération des identifiants\n",
    "apiKey = usrCredentials[1, :apikey] #clé API"
   ]
  },
  {
   "cell_type": "markdown",
   "metadata": {},
   "source": [
    "## API\n",
    "Pour travailler avec l'API test, modifiez la valeur de la variable `apitest` par `true`"
   ]
  },
  {
   "cell_type": "code",
   "execution_count": 14,
   "metadata": {},
   "outputs": [
    {
     "data": {
      "text/plain": [
       "\"https://api.nakala.fr\""
      ]
     },
     "metadata": {},
     "output_type": "display_data"
    }
   ],
   "source": [
    "apitest = false\n",
    "\n",
    "if apitest == true\n",
    "  apiurl = \"https://apitest.nakala.fr\"\n",
    "else \n",
    "  apiurl = \"https://api.nakala.fr\"\n",
    "end"
   ]
  },
  {
   "cell_type": "markdown",
   "metadata": {},
   "source": [
    "## Chercher un fichier précis dans une donnée"
   ]
  },
  {
   "cell_type": "code",
   "execution_count": 15,
   "metadata": {},
   "outputs": [
    {
     "data": {
      "text/plain": [
       "991-element Vector{Any}:\n",
       " Dict{String, Any}(\"name\" => \"Z1J434_0001.JPG\", \"embargoed\" => \"2023-02-28T00:00:00+01:00\", \"humanReadableEmbargoedDelay\" => Any[], \"size\" => 6474755, \"mime_type\" => \"image/jpeg\", \"sha1\" => \"8941d1bc63ce6d9d03a93c9fc02909773ed9e685\", \"extension\" => \"jpg\", \"description\" => nothing)\n",
       " Dict{String, Any}(\"name\" => \"Z1J434_0002.JPG\", \"embargoed\" => \"2023-02-28T00:00:00+01:00\", \"humanReadableEmbargoedDelay\" => Any[], \"size\" => 6927522, \"mime_type\" => \"image/jpeg\", \"sha1\" => \"a88fb1df1f1420ff538b6d1b2d46b8d3147ea519\", \"extension\" => \"jpg\", \"description\" => nothing)\n",
       " Dict{String, Any}(\"name\" => \"Z1J434_0003.JPG\", \"embargoed\" => \"2023-02-28T00:00:00+01:00\", \"humanReadableEmbargoedDelay\" => Any[], \"size\" => 7408610, \"mime_type\" => \"image/jpeg\", \"sha1\" => \"cd137d9a0114a0980ba83db58cc1120fd7b1cd7e\", \"extension\" => \"jpg\", \"description\" => nothing)\n",
       " Dict{String, Any}(\"name\" => \"Z1J434_0004.JPG\", \"embargoed\" => \"2023-02-28T00:00:00+01:00\", \"humanReadableEmbargoedDelay\" => Any[], \"size\" => 6712018, \"mime_type\" => \"image/jpeg\", \"sha1\" => \"6dd8237c0c799a8f239c7a55d0bde84f51a77c2f\", \"extension\" => \"jpg\", \"description\" => nothing)\n",
       " Dict{String, Any}(\"name\" => \"Z1J434_0005.JPG\", \"embargoed\" => \"2023-02-28T00:00:00+01:00\", \"humanReadableEmbargoedDelay\" => Any[], \"size\" => 5942806, \"mime_type\" => \"image/jpeg\", \"sha1\" => \"ed46f416612492a52d9645ccac21b013d10aa95b\", \"extension\" => \"jpg\", \"description\" => nothing)\n",
       " Dict{String, Any}(\"name\" => \"Z1J434_0006.JPG\", \"embargoed\" => \"2023-02-28T00:00:00+01:00\", \"humanReadableEmbargoedDelay\" => Any[], \"size\" => 6784101, \"mime_type\" => \"image/jpeg\", \"sha1\" => \"032d9d47936e256f3f25bbed68ee7c4809a78f5a\", \"extension\" => \"jpg\", \"description\" => nothing)\n",
       " Dict{String, Any}(\"name\" => \"Z1J434_0007.JPG\", \"embargoed\" => \"2023-02-28T00:00:00+01:00\", \"humanReadableEmbargoedDelay\" => Any[], \"size\" => 7673104, \"mime_type\" => \"image/jpeg\", \"sha1\" => \"18356c22ff72169317fd25472e85c1659d592eaf\", \"extension\" => \"jpg\", \"description\" => nothing)\n",
       " Dict{String, Any}(\"name\" => \"Z1J434_0008.JPG\", \"embargoed\" => \"2023-02-28T00:00:00+01:00\", \"humanReadableEmbargoedDelay\" => Any[], \"size\" => 7121809, \"mime_type\" => \"image/jpeg\", \"sha1\" => \"816b761dcbe1fbcbf70940004363cbb3e899fda9\", \"extension\" => \"jpg\", \"description\" => nothing)\n",
       " Dict{String, Any}(\"name\" => \"Z1J434_0009.JPG\", \"embargoed\" => \"2023-02-28T00:00:00+01:00\", \"humanReadableEmbargoedDelay\" => Any[], \"size\" => 6147919, \"mime_type\" => \"image/jpeg\", \"sha1\" => \"5d670f1c8c9a45c8449661ddb08f1d8936f13bd8\", \"extension\" => \"jpg\", \"description\" => nothing)\n",
       " Dict{String, Any}(\"name\" => \"Z1J434_0010.JPG\", \"embargoed\" => \"2023-02-28T00:00:00+01:00\", \"humanReadableEmbargoedDelay\" => Any[], \"size\" => 6706743, \"mime_type\" => \"image/jpeg\", \"sha1\" => \"587ba644eef518efbe5905fc9f8b082b74ef7f25\", \"extension\" => \"jpg\", \"description\" => nothing)\n",
       " ⋮\n",
       " Dict{String, Any}(\"name\" => \"Z1J434_0983.JPG\", \"embargoed\" => \"2023-02-28T00:00:00+01:00\", \"humanReadableEmbargoedDelay\" => Any[], \"size\" => 6718150, \"mime_type\" => \"image/jpeg\", \"sha1\" => \"9700549a4e0c936f4838cdf0b09ecb018a96633f\", \"extension\" => \"jpg\", \"description\" => nothing)\n",
       " Dict{String, Any}(\"name\" => \"Z1J434_0984.JPG\", \"embargoed\" => \"2023-02-28T00:00:00+01:00\", \"humanReadableEmbargoedDelay\" => Any[], \"size\" => 6082987, \"mime_type\" => \"image/jpeg\", \"sha1\" => \"eea831235a40061690199e024a916227fbb4b49d\", \"extension\" => \"jpg\", \"description\" => nothing)\n",
       " Dict{String, Any}(\"name\" => \"Z1J434_0985.JPG\", \"embargoed\" => \"2023-02-28T00:00:00+01:00\", \"humanReadableEmbargoedDelay\" => Any[], \"size\" => 6760884, \"mime_type\" => \"image/jpeg\", \"sha1\" => \"6a93643343651ca8b6e1870c5304188de38d9c20\", \"extension\" => \"jpg\", \"description\" => nothing)\n",
       " Dict{String, Any}(\"name\" => \"Z1J434_0986.JPG\", \"embargoed\" => \"2023-02-28T00:00:00+01:00\", \"humanReadableEmbargoedDelay\" => Any[], \"size\" => 6690420, \"mime_type\" => \"image/jpeg\", \"sha1\" => \"30051444bd79fe9a1b916d3790568d2f3ccf6274\", \"extension\" => \"jpg\", \"description\" => nothing)\n",
       " Dict{String, Any}(\"name\" => \"Z1J434_0987.JPG\", \"embargoed\" => \"2023-02-28T00:00:00+01:00\", \"humanReadableEmbargoedDelay\" => Any[], \"size\" => 6379655, \"mime_type\" => \"image/jpeg\", \"sha1\" => \"53890bf1c8484a363f9936d847439687c16cc040\", \"extension\" => \"jpg\", \"description\" => nothing)\n",
       " Dict{String, Any}(\"name\" => \"Z1J434_0988.JPG\", \"embargoed\" => \"2023-02-28T00:00:00+01:00\", \"humanReadableEmbargoedDelay\" => Any[], \"size\" => 6690039, \"mime_type\" => \"image/jpeg\", \"sha1\" => \"039d2026dff86216fd5d0cc9d1e200e998d7ea99\", \"extension\" => \"jpg\", \"description\" => nothing)\n",
       " Dict{String, Any}(\"name\" => \"Z1J434_0989.JPG\", \"embargoed\" => \"2023-02-28T00:00:00+01:00\", \"humanReadableEmbargoedDelay\" => Any[], \"size\" => 7153647, \"mime_type\" => \"image/jpeg\", \"sha1\" => \"a26b89d813ea722170293d163db053b0adc086e8\", \"extension\" => \"jpg\", \"description\" => nothing)\n",
       " Dict{String, Any}(\"name\" => \"Z1J434_0990.JPG\", \"embargoed\" => \"2023-02-28T00:00:00+01:00\", \"humanReadableEmbargoedDelay\" => Any[], \"size\" => 6713410, \"mime_type\" => \"image/jpeg\", \"sha1\" => \"81b889b16d5e68603c4d98d49e7caf3e79606b56\", \"extension\" => \"jpg\", \"description\" => nothing)\n",
       " Dict{String, Any}(\"name\" => \"Z1J434_0991.JPG\", \"embargoed\" => \"2023-02-28T00:00:00+01:00\", \"humanReadableEmbargoedDelay\" => Any[], \"size\" => 6730427, \"mime_type\" => \"image/jpeg\", \"sha1\" => \"875eb926a6c78803c84e54e26855077038ca941b\", \"extension\" => \"jpg\", \"description\" => nothing)"
      ]
     },
     "metadata": {},
     "output_type": "display_data"
    }
   ],
   "source": [
    "title = \"Z1J434\"\n",
    "lang = \"\"\n",
    "firstImage = 1\n",
    "lastImage = 2\n",
    "\n",
    "scope = [\"deposited\", \"owned\", \"shared\", \"editable\", \"readable\", \"all\"]\n",
    "#deposited : les données déposées par l'utilisateur (ROLE_DEPOSITOR)\n",
    "#owned : les données dont l'utilisateur est propriétaire (ROLE_OWNER)\n",
    "#shared : les données partagées avec l'utilisateur (ROLE_ADMIN, ROLE_EDITOR ou ROLE_READER, mais pas ROLE_OWNER)\n",
    "#editable : les données modifiables par l'utilisateur (ROLE_OWNER, ROLE_ADMIN ou ROLE_EDITOR)\n",
    "#readable : les données lisibles par l'utilisateur (ROLE_OWNER, ROLE_ADMIN, ROLE_EDITOR ou ROLE_READER)\n",
    "#all : toute\n",
    "s = scope[1]\n",
    "\n",
    "\n",
    "url = joinpath(apiurl, \"users\", \"datas\", s)\n",
    "\n",
    "headers = Dict(\n",
    "  \"X-API-KEY\" => apiKey,\n",
    "  \"Content-Type\" => \"application/json\"\n",
    ")\n",
    "\n",
    "body = Dict(\n",
    "  :page => 1,\n",
    "  :limit => 100,\n",
    "  :titleSearch => title,\n",
    "  :titleSearchLang => lang\n",
    ")\n",
    "\n",
    "userDatas = HTTP.request(\"POST\", url, headers, JSON.json(body))\n",
    "userDatasResponse = JSON.parse(String(HTTP.payload(userDatas))) # réponse du server\n",
    "\n",
    "datas = get(userDatasResponse, \"data\", \"nothing\")\n",
    "# il peut y avoir plusieurs résultats\n",
    "data = datas[1]\n",
    "identifier = get(datas[1], \"identifier\", \"\")\n",
    "files = get(data, \"files\", \"\")"
   ]
  },
  {
   "cell_type": "markdown",
   "metadata": {},
   "source": [
    "## Création d'un array pour les images"
   ]
  },
  {
   "cell_type": "code",
   "execution_count": 16,
   "metadata": {},
   "outputs": [
    {
     "data": {
      "text/plain": [
       "2-element Vector{Any}:\n",
       " Dict(\"apiurl\" => \"https://api.nakala.fr\", \"label\" => \"Z1J434_0001.JPG\", \"dataIdentifier\" => \"10.34847/nkl.40c2ysl9\", \"fileIdentifier\" => \"8941d1bc63ce6d9d03a93c9fc02909773ed9e685\", \"url\" => \"https://api.nakala.fr/data/10.34847/nkl.40c2ysl9/8941d1bc63ce6d9d03a93c9fc02909773ed9e685\")\n",
       " Dict(\"apiurl\" => \"https://api.nakala.fr\", \"label\" => \"Z1J434_0002.JPG\", \"dataIdentifier\" => \"10.34847/nkl.40c2ysl9\", \"fileIdentifier\" => \"a88fb1df1f1420ff538b6d1b2d46b8d3147ea519\", \"url\" => \"https://api.nakala.fr/data/10.34847/nkl.40c2ysl9/a88fb1df1f1420ff538b6d1b2d46b8d3147ea519\")"
      ]
     },
     "metadata": {},
     "output_type": "display_data"
    }
   ],
   "source": [
    "urls = Vector()\n",
    "for i in firstImage:lastImage\n",
    "  file = files[i]\n",
    "  fileName = get(file, \"name\", \"unknown\")\n",
    "\n",
    "  fileIdentifier = get(file, \"sha1\", \"unknown\")\n",
    "  fileUrl = joinpath(apiurl, \"data\", identifier, fileIdentifier)\n",
    "\n",
    "  img = Dict(\n",
    "    \"url\" => fileUrl,\n",
    "    \"apiurl\" => apiurl,\n",
    "    \"dataIdentifier\" => identifier,\n",
    "    \"fileIdentifier\" => fileIdentifier,\n",
    "    \"label\" => fileName\n",
    "  )\n",
    "\n",
    "  push!(urls, img)\n",
    "end\n",
    "\n",
    "urls"
   ]
  },
  {
   "cell_type": "markdown",
   "metadata": {},
   "source": [
    "## Fonction Split()"
   ]
  },
  {
   "cell_type": "code",
   "execution_count": null,
   "metadata": {},
   "outputs": [],
   "source": [
    "function split(label, file, s)\n",
    "  middle = s[2]/2\n",
    "  l = floor(Int, middle+100)\n",
    "  r = floor(Int, middle-100)\n",
    "  leftPart = @view file[ :, 1:l]\n",
    "  rightPart = @view file[ :, r:s[2]]\n",
    "  save(string(splitext(label)[1], \"-l\", splitext(label)[2]), leftPart)\n",
    "  save(string(splitext(label)[1], \"-r\", splitext(label)[2]), rightPart)\n",
    "end"
   ]
  },
  {
   "cell_type": "code",
   "execution_count": null,
   "metadata": {},
   "outputs": [],
   "source": [
    "for img in urls\n",
    "  label = get(img, \"label\", \"unknown\")\n",
    "  file = download(get(img, \"url\", \"\")) |> load\n",
    "  s = size(file)\n",
    "  \n",
    "  file = rot180(file)\n",
    "\n",
    "  if s[1] < s[2]\n",
    "    split(label, file, s)\n",
    "  else\n",
    "    save(label, file)\n",
    "  end\n",
    "\n",
    "end"
   ]
  },
  {
   "cell_type": "markdown",
   "metadata": {},
   "source": [
    "## Spliiit\n"
   ]
  },
  {
   "cell_type": "code",
   "execution_count": 21,
   "metadata": {},
   "outputs": [
    {
     "data": {
      "text/plain": [
       "spliiit (generic function with 1 method)"
      ]
     },
     "metadata": {},
     "output_type": "display_data"
    }
   ],
   "source": [
    "function spliiit(img, data)\n",
    "    \n",
    "    segments = felzenszwalb(img, 5000, 300000) # le deuxième argument permet de supprimer les segments les plus petits\n",
    "    \n",
    "    segMap = labels_map(segments)\n",
    "    \n",
    "    pixel = sort(segment_pixel_count(segments); byvalue=true)\n",
    "    v = collect(values(pixel))\n",
    "    k = collect(keys(pixel))\n",
    "    l = length(collect(values(pixel)))\n",
    "    \n",
    "    vec = Vector()\n",
    "    for i in l-1:l\n",
    "        coordinates = findall(x -> x == k[i], segMap)\n",
    "\n",
    "        ymin, ymax = extrema(c -> c[1], coordinates)\n",
    "        h = ymax - ymin\n",
    "\n",
    "        xmin, xmax = extrema(c -> c[2], coordinates)\n",
    "        w = xmax - xmin\n",
    "        \n",
    "        region = joinpath(get(data, \"apiurl\", \"unknown\"), \"iiif\", get(data, \"dataIdentifier\", \"unknown\"), get(data, \"fileIdentifier\", \"unknown\"), \"$xmin,$ymin,$w,$h/full/0/default.jpg\")\n",
    "        push!(vec, region)\n",
    "\n",
    "    end\n",
    "    \n",
    "\n",
    "    #draw!(file, Cross(Point(xmin, ymin), 300), RGB{N0f8}(1,0,1))\n",
    "    #draw!(file, Cross(Point(xmax, ymax), 300), RGB{N0f8}(1,0,1))\n",
    "\n",
    "    \n",
    "    \n",
    "    vec\n",
    "end\n",
    "\n",
    "#results = spliiit(img)"
   ]
  },
  {
   "cell_type": "code",
   "execution_count": 23,
   "metadata": {},
   "outputs": [],
   "source": [
    "for img in urls\n",
    "  file = download(get(img, \"url\", \"\")) |> load\n",
    "  s = size(file)\n",
    "\n",
    "  if s[1] < s[2]\n",
    "    spliiit(file, data)\n",
    "  else\n",
    "    println(\"todo\")\n",
    "  end\n",
    "\n",
    "end"
   ]
  },
  {
   "cell_type": "code",
   "execution_count": null,
   "metadata": {},
   "outputs": [],
   "source": []
  }
 ],
 "metadata": {
  "kernelspec": {
   "display_name": "Julia 1.10.0",
   "language": "julia",
   "name": "julia-1.10"
  },
  "language_info": {
   "file_extension": ".jl",
   "mimetype": "application/julia",
   "name": "julia",
   "version": "1.10.0"
  }
 },
 "nbformat": 4,
 "nbformat_minor": 2
}
