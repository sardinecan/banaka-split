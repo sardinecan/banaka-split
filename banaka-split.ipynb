{
 "cells": [
  {
   "cell_type": "markdown",
   "metadata": {},
   "source": [
    "# Banaka Split\n",
    "Ce notebook [Julia](https://julialang.org/) a été réalisé dans le cadre de l'[ANR Experts](https://experts.huma-num.fr/) afin d'évaluer des méthodes de découpage automatique de photographies comportant des double pages et accessibles depuis [Nakala](https://nakala.fr/).\n",
    "<figure>\n",
    "    <img src=\"https://api.nakala.fr/data/10.34847/nkl.027b840e/5c8e77a046216ab6aed848b2f781deb9495fea76\" alt=\"z1j432\" width=\"300\">\n",
    "    <figcaption>Z1J432d001</figcaption>\n",
    "</figure>\n",
    "\n",
    "**Note** une clé API est requise pour récupérer les images depuis l'[API Nakala](https://api.nakala.fr/)."
   ]
  },
  {
   "cell_type": "markdown",
   "metadata": {},
   "source": [
    "## Packages"
   ]
  },
  {
   "cell_type": "code",
   "execution_count": null,
   "metadata": {},
   "outputs": [],
   "source": [
    "# chargement des paquets\n",
    "using CSV\n",
    "using DataFrames\n",
    "using ImageSegmentation\n",
    "using HTTP\n",
    "using JSON\n",
    "using Dates\n",
    "using FileIO"
   ]
  },
  {
   "cell_type": "markdown",
   "metadata": {},
   "source": [
    "## Identifiants"
   ]
  },
  {
   "cell_type": "code",
   "execution_count": null,
   "metadata": {},
   "outputs": [],
   "source": [
    "path = @__DIR__\n",
    "credentials = CSV.read(joinpath(path, \"credentials.csv\"), DataFrame, header=1) #liste des utilisateurs\n",
    "user = \"tnakala\" #choix de l'utilisateur (api test = tnakala)\n",
    "usrCredentials = filter(:user => n -> n == user, credentials) #récupération des identifiants\n",
    "apiKey = usrCredentials[1, :apikey] #clé API"
   ]
  },
  {
   "cell_type": "markdown",
   "metadata": {},
   "source": [
    "## API\n",
    "Pour travailler avec l'API test, modifiez la valeur de la variable `apitest` par `true`"
   ]
  },
  {
   "cell_type": "code",
   "execution_count": null,
   "metadata": {},
   "outputs": [],
   "source": [
    "apitest = true\n",
    "\n",
    "if apitest == true\n",
    "  apiurl = \"https://apitest.nakala.fr\"\n",
    "else \n",
    "  apiurl = \"https://api.nakala.fr\"\n",
    "end"
   ]
  },
  {
   "cell_type": "markdown",
   "metadata": {},
   "source": [
    "## Chercher un fichier précis dans une donnée"
   ]
  },
  {
   "cell_type": "code",
   "execution_count": null,
   "metadata": {},
   "outputs": [],
   "source": [
    "title = \"Z1J434\" # titre de la donnée\n",
    "lang = \"\" # langue du titre, option\n",
    "# @todo faire un range\n",
    "firstImage = 1 # première image\n",
    "lastImage = 2 # dernière image\n",
    "\n",
    "scope = [\"deposited\", \"owned\", \"shared\", \"editable\", \"readable\", \"all\"]\n",
    "#deposited : les données déposées par l'utilisateur (ROLE_DEPOSITOR)\n",
    "#owned : les données dont l'utilisateur est propriétaire (ROLE_OWNER)\n",
    "#shared : les données partagées avec l'utilisateur (ROLE_ADMIN, ROLE_EDITOR ou ROLE_READER, mais pas ROLE_OWNER)\n",
    "#editable : les données modifiables par l'utilisateur (ROLE_OWNER, ROLE_ADMIN ou ROLE_EDITOR)\n",
    "#readable : les données lisibles par l'utilisateur (ROLE_OWNER, ROLE_ADMIN, ROLE_EDITOR ou ROLE_READER)\n",
    "#all : toute\n",
    "s = scope[1]\n",
    "\n",
    "\n",
    "url = joinpath(apiurl, \"users\", \"datas\", s)\n",
    "\n",
    "headers = Dict(\n",
    "  \"X-API-KEY\" => apiKey,\n",
    "  \"Content-Type\" => \"application/json\"\n",
    ")\n",
    "\n",
    "body = Dict(\n",
    "  :page => 1,\n",
    "  :limit => 100,\n",
    "  :titleSearch => title,\n",
    "  :titleSearchLang => lang\n",
    ")\n",
    "\n",
    "userDatas = HTTP.request(\"POST\", url, headers, JSON.json(body))\n",
    "userDatasResponse = JSON.parse(String(HTTP.payload(userDatas))) # réponse du server\n",
    "\n",
    "datas = get(userDatasResponse, \"data\", \"nothing\")\n",
    "# il peut y avoir plusieurs résultats\n",
    "data = datas[1]\n",
    "identifier = get(datas[1], \"identifier\", \"\")\n",
    "files = get(data, \"files\", \"\")"
   ]
  },
  {
   "cell_type": "markdown",
   "metadata": {},
   "source": [
    "## Création d'un array pour les images"
   ]
  },
  {
   "cell_type": "code",
   "execution_count": null,
   "metadata": {},
   "outputs": [],
   "source": [
    "imgs = Vector()\n",
    "for i in firstImage:lastImage\n",
    "  file = files[i]\n",
    "  fileName = get(file, \"name\", \"unknown\")\n",
    "\n",
    "  fileIdentifier = get(file, \"sha1\", \"unknown\")\n",
    "  fileUrl = joinpath(apiurl, \"data\", identifier, fileIdentifier)\n",
    "\n",
    "  img = Dict(\n",
    "    \"url\" => fileUrl,\n",
    "    \"apiurl\" => apiurl,\n",
    "    \"dataIdentifier\" => identifier,\n",
    "    \"fileIdentifier\" => fileIdentifier,\n",
    "    \"label\" => fileName\n",
    "  )\n",
    "\n",
    "  push!(imgs, img)\n",
    "end\n",
    "\n",
    "imgs"
   ]
  },
  {
   "cell_type": "markdown",
   "metadata": {},
   "source": [
    "## Split()\n",
    "`Split()` est une fonction qui scinde les images en deux et enregistre les images découpées."
   ]
  },
  {
   "cell_type": "code",
   "execution_count": null,
   "metadata": {},
   "outputs": [],
   "source": [
    "function split(label, file, s)\n",
    "  middle = s[2]/2\n",
    "  l = floor(Int, middle+100)\n",
    "  r = floor(Int, middle-100)\n",
    "  leftPart = @view file[ :, 1:l]\n",
    "  rightPart = @view file[ :, r:s[2]]\n",
    "  save(string(splitext(label)[1], \"-l\", splitext(label)[2]), leftPart)\n",
    "  save(string(splitext(label)[1], \"-r\", splitext(label)[2]), rightPart)\n",
    "end"
   ]
  },
  {
   "cell_type": "code",
   "execution_count": null,
   "metadata": {},
   "outputs": [],
   "source": [
    "for img in imgs\n",
    "  label = get(img, \"label\", \"unknown\")\n",
    "  file = download(get(img, \"url\", \"\")) |> load\n",
    "  s = size(file)\n",
    "  \n",
    "  file = rot180(file)\n",
    "\n",
    "  if s[1] < s[2]\n",
    "    split(label, file, s)\n",
    "  else\n",
    "    save(label, file)\n",
    "  end\n",
    "\n",
    "end"
   ]
  },
  {
   "cell_type": "markdown",
   "metadata": {},
   "source": [
    "## Spliiit\n",
    "`spliiit()` a recours à des algorithmes de segmentation pour tenter de \"repérer\" les pages et déterminer leurs coordonnées, afin d'y accéder via l'API IIIF de Nakala."
   ]
  },
  {
   "cell_type": "code",
   "execution_count": null,
   "metadata": {},
   "outputs": [],
   "source": [
    "function spliiit(image)\n",
    "    \n",
    "    img = download(get(image, \"url\", \"\")) |> load\n",
    "    \n",
    "    segments = felzenszwalb(img, 5000, 300000) # le deuxième argument permet de supprimer les segments les plus petits\n",
    "    \n",
    "    segMap = labels_map(segments)\n",
    "    \n",
    "    pixel = sort(segment_pixel_count(segments); byvalue=true)\n",
    "    v = collect(values(pixel))\n",
    "    k = collect(keys(pixel))\n",
    "    l = length(collect(values(pixel)))\n",
    "    \n",
    "    vec = Vector()\n",
    "    for i in l-1:l\n",
    "        coordinates = findall(x -> x == k[i], segMap)\n",
    "\n",
    "        ymin, ymax = extrema(c -> c[1], coordinates)\n",
    "        h = ymax - ymin\n",
    "\n",
    "        xmin, xmax = extrema(c -> c[2], coordinates)\n",
    "        w = xmax - xmin\n",
    "        \n",
    "        region = joinpath(get(image, \"apiurl\", \"\"), \"iiif\", get(image, \"dataIdentifier\", \"\"), get(image, \"fileIdentifier\", \"\"), \"$xmin,$ymin,$w,$h/full/0/default.jpg\")\n",
    "        push!(vec, region)\n",
    "\n",
    "    end   \n",
    "    \n",
    "    vec\n",
    "end\n"
   ]
  },
  {
   "cell_type": "code",
   "execution_count": null,
   "metadata": {},
   "outputs": [],
   "source": [
    "t = Vector() \n",
    "for img in urls\n",
    "    push!(t, spliiit(img))\n",
    "end\n",
    "t"
   ]
  }
 ],
 "metadata": {
  "kernelspec": {
   "display_name": "Julia 1.7.0",
   "language": "julia",
   "name": "julia-1.7.0"
  },
  "language_info": {
   "file_extension": ".jl",
   "mimetype": "application/julia",
   "name": "julia",
   "version": "1.7.0"
  }
 },
 "nbformat": 4,
 "nbformat_minor": 4
}
